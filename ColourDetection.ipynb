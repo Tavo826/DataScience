{
  "nbformat": 4,
  "nbformat_minor": 0,
  "metadata": {
    "colab": {
      "name": "ColourDetection.ipynb",
      "provenance": [],
      "collapsed_sections": [],
      "mount_file_id": "1IHTcZAj6df8Eh7EPfkl3RehyMxbUs6jn",
      "authorship_tag": "ABX9TyMR04e6OSnl/GbLVYcpzwC3",
      "include_colab_link": true
    },
    "kernelspec": {
      "name": "python3",
      "display_name": "Python 3"
    }
  },
  "cells": [
    {
      "cell_type": "markdown",
      "metadata": {
        "id": "view-in-github",
        "colab_type": "text"
      },
      "source": [
        "<a href=\"https://colab.research.google.com/github/Tavo826/DataScience/blob/main/ColourDetection.ipynb\" target=\"_parent\"><img src=\"https://colab.research.google.com/assets/colab-badge.svg\" alt=\"Open In Colab\"/></a>"
      ]
    },
    {
      "cell_type": "markdown",
      "metadata": {
        "id": "J2u7x_4JienZ"
      },
      "source": [
        "colors.csv contiene 865 nombres de colores con su correspondientes valores RGB y Hex"
      ]
    },
    {
      "cell_type": "code",
      "metadata": {
        "id": "jtOJvYKMeXGx"
      },
      "source": [
        "import os\r\n",
        "import cv2\r\n",
        "import numpy as np\r\n",
        "import pandas as pd\r\n",
        "import argparse\r\n",
        "\r\n",
        "os.chdir('/content/drive/MyDrive/Colab Notebooks/Data Science/Detección de color')"
      ],
      "execution_count": null,
      "outputs": []
    },
    {
      "cell_type": "code",
      "metadata": {
        "id": "h_8YIJQziXfr"
      },
      "source": [
        "#Leyendo la imagen\r\n",
        "img = cv2.imread('colorpic.jpg')\r\n",
        "#Leyendo el archivo csv y nombrandi cada columna\r\n",
        "index = ['color', 'color_name', 'hex', 'R', 'G', 'B']\r\n",
        "csv = pd.read_csv('colors.csv', names=index, header=None)"
      ],
      "execution_count": null,
      "outputs": []
    },
    {
      "cell_type": "markdown",
      "metadata": {
        "id": "TGQTdQO_Mqvs"
      },
      "source": [
        "Establecer un evento del mouse en una ventana asociado a la siguiente función, la cual calcula los valores RGB del pixel al que se le de doble click. Las variables de entrada x, y son las coordenadas de la posición del mouse"
      ]
    },
    {
      "cell_type": "code",
      "metadata": {
        "id": "J0B-GF3NNPrf"
      },
      "source": [
        "def draw_function(event, x, y, flags, params):\r\n",
        "  if event == cv2.EVENT_LBUTTONDBCLICK:\r\n",
        "    global b,g,r,xpos,ypos, clicked\r\n",
        "    clicked = True\r\n",
        "    xpos = x\r\n",
        "    ypos = y\r\n",
        "    b,g,r = img[x,y]\r\n",
        "    b = int(b)\r\n",
        "    g = int(g)\r\n",
        "    r = int(r)"
      ],
      "execution_count": null,
      "outputs": []
    },
    {
      "cell_type": "code",
      "metadata": {
        "id": "xJE96C_mjx5z"
      },
      "source": [
        "#Se crea la ventena en la que se muetra la imagen\r\n",
        "cv2.namedWindow('image') #No funciona en colab\r\n",
        "#Evento del mouse\r\n",
        "cv2.setMouseCallback('image', draw_function)"
      ],
      "execution_count": null,
      "outputs": []
    },
    {
      "cell_type": "markdown",
      "metadata": {
        "id": "EqwKj0baQclt"
      },
      "source": [
        "Calculando la distancia para obtener el nombre del color\r\n",
        "\r\n",
        "$$d = abs(Red - ithRedColor) + abs(Green - ithGreenColor) + abs(Blue - ithBlueColor)$$"
      ]
    },
    {
      "cell_type": "code",
      "metadata": {
        "id": "hYsf1I9yOrAl"
      },
      "source": [
        "def getColorName(R,G,B):\r\n",
        "  minimum = 10000\r\n",
        "  for i in range(len(csv)):\r\n",
        "    d = abs(R - int(csv.loc[i,'R'])) + abs(G - int(csv.loc[i,'G'])) + abs(B - int(csv.loc[i,'B']))\r\n",
        "    if (d <= minimum):\r\n",
        "      minimum = d\r\n",
        "      cname = csv.loc[i, 'color_name']\r\n",
        "  \r\n",
        "  return cname"
      ],
      "execution_count": null,
      "outputs": []
    },
    {
      "cell_type": "markdown",
      "metadata": {
        "id": "AzFChoLvS7-m"
      },
      "source": [
        "Mostrando la imagen en la pantalla\r\n",
        "\r\n",
        "Siempre que se de doble click, se actaliza el nombre del color r los valores RGB"
      ]
    },
    {
      "cell_type": "code",
      "metadata": {
        "id": "E_8H9GkJTL2s"
      },
      "source": [
        "while True:\r\n",
        "  cv2.imshow('image', img)\r\n",
        "  if(clicked):\r\n",
        "    #cv2.rectangle(imagen, punto_inicio, punto_final, color, grosor)\r\n",
        "    cv2.rectangle(img, (20,20), (750,60), (b,g,r), -1)\r\n",
        "\r\n",
        "    text = getColorName(r,g,b) + 'R=' + str(r) + 'G=' + str(g) + 'B=' + str(b)\r\n",
        "    #cv2.putText(imgagen, texto, inicio, fuente(0-7), tamaño_fuente, color, grosor, tipo_de_linea, (optional bottomLeft bool))\r\n",
        "    cv2.putText(img, text, (50,50), 2, 0.8, (255,255,255), 2, cv2.LINE_AA)\r\n",
        "    if (r+g+b >= 600):\r\n",
        "      cv2.putText(img, text, (50,50), 2, 0.8, (0,0,0), 2, cv2.LINE_AA)\r\n",
        "    \r\n",
        "    clicked = False\r\n",
        "  \r\n",
        "  if cv2.waitKey(20) & 0xFF == 27:\r\n",
        "    break\r\n",
        "  \r\n",
        "cv2.destroyAllWindows()"
      ],
      "execution_count": null,
      "outputs": []
    }
  ]
}