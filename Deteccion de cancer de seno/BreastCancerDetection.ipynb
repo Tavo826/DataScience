{
  "nbformat": 4,
  "nbformat_minor": 0,
  "metadata": {
    "colab": {
      "name": "BreastCancerDetection.ipynb",
      "provenance": [],
      "collapsed_sections": [],
      "mount_file_id": "1W8Dj0nhJAiKnGXhlfswSLG3sN1tKutDI",
      "authorship_tag": "ABX9TyMe+rn/BJPX2MTBok2crygi",
      "include_colab_link": true
    },
    "kernelspec": {
      "name": "python3",
      "display_name": "Python 3"
    }
  },
  "cells": [
    {
      "cell_type": "markdown",
      "metadata": {
        "id": "view-in-github",
        "colab_type": "text"
      },
      "source": [
        "<a href=\"https://colab.research.google.com/github/Tavo826/DataScience/blob/main/BreastCancerDetection.ipynb\" target=\"_parent\"><img src=\"https://colab.research.google.com/assets/colab-badge.svg\" alt=\"Open In Colab\"/></a>"
      ]
    },
    {
      "cell_type": "markdown",
      "metadata": {
        "id": "RC3hmANQRkCf"
      },
      "source": [
        "Se pretende entrenar un clasificador utilizando una red neuronal convolucional llamada CancerNet, la cual se alimentará con imágenes de IDC (Invasive Ductal Carcinoma). El dataset contiene 277524 parches de tamaño 50x50 extraídos de 162 imágenes. De estos 198738 dan negativo y 78786 dan positivo.\r\n",
        "\r\n",
        "Los nobres de los archivos son de la forma\r\n",
        "$$8863\\_idx5\\_x451\\_y1451\\_class0$$\r\n",
        "donde 8863_idx5 es el ID del paciente, 451 y 1451 son las coordenadas x, y del cultivo y 0 es la etiqueta de la clase (0 denota ausencia de IDC)"
      ]
    },
    {
      "cell_type": "markdown",
      "metadata": {
        "id": "VuP1BBRrTBPD"
      },
      "source": [
        "# Configuration"
      ]
    },
    {
      "cell_type": "code",
      "metadata": {
        "id": "wbcx9QGT-jIv"
      },
      "source": [
        "import os\r\n",
        "os.chdir('/content/drive/MyDrive/Colab Notebooks/Data Science/Clasificación de cáncer de seno')\r\n",
        "\r\n",
        "INPUT_DATASET = '/content/drive/MyDrive/Colab Notebooks/Data Science/Clasificación de cáncer de seno/IDC_dataset'\r\n",
        "BASE_PATH = '/content/drive/MyDrive/Colab Notebooks/Data Science/Clasificación de cáncer de seno/IDC_dataset/idc'\r\n",
        "TRAIN_PATH = os.path.sep.join([BASE_PATH, 'training'])\r\n",
        "VAL_PATH = os.path.sep.join([BASE_PATH, 'validation'])\r\n",
        "TEST_PATH = os.path.sep.join([BASE_PATH, 'testing'])\r\n",
        "\r\n",
        "TRAIN_SPLIT = 0.8\r\n",
        "VAL_SPLIT = 0.1"
      ],
      "execution_count": null,
      "outputs": []
    },
    {
      "cell_type": "markdown",
      "metadata": {
        "id": "7qrLbn40TE7q"
      },
      "source": [
        "# Build Dataset"
      ]
    },
    {
      "cell_type": "code",
      "metadata": {
        "colab": {
          "base_uri": "https://localhost:8080/"
        },
        "id": "vnsiEn1nMfGd",
        "outputId": "0bf03876-62a3-48a8-a8bd-55101b966226"
      },
      "source": [
        "from imutils import paths\r\n",
        "import random, shutil, os\r\n",
        "\r\n",
        "originalPaths = list(paths.list_images(INPUT_DATASET))\r\n",
        "random.seed(7)\r\n",
        "random.shuffle(originalPaths)\r\n",
        "\r\n",
        "index = int(len(originalPaths) * TRAIN_SPLIT)\r\n",
        "trainPaths = originalPaths[:index]\r\n",
        "testPaths = originalPaths[index:]\r\n",
        "\r\n",
        "index = int(len(trainPaths) * VAL_SPLIT)\r\n",
        "valPaths = trainPaths[:index]\r\n",
        "trainPaths = trainPaths[index:]\r\n",
        "\r\n",
        "datasets = [('training', trainPaths, TRAIN_PATH),\r\n",
        "            ('validation', valPaths, VAL_PATH),\r\n",
        "            ('testing', testPaths, TEST_PATH)]\r\n",
        "\r\n",
        "for (setType, originalPaths, basePath) in datasets:\r\n",
        "\r\n",
        "  print(f'Building {setType} set')\r\n",
        "  \r\n",
        "  if not os.path.exists(basePath):\r\n",
        "    os.makedirs(basePath)\r\n",
        "  \r\n",
        "  for path in originalPaths:\r\n",
        "    #lista de imágenes\r\n",
        "    file = path.split(os.path.sep)[-1]\r\n",
        "    label = file[-5:-4]\r\n",
        "\r\n",
        "    #Asociando las etiquetas a los paths\r\n",
        "    labelPath = os.path.sep.join([basePath, label])\r\n",
        "    if not os.path.exists(labelPath):\r\n",
        "      os.makedirs(labelPath)\r\n",
        "\r\n",
        "    #Asociando cada imagen con su etiqueta en el path\r\n",
        "    newPath = os.path.sep.join([labelPath, file])\r\n",
        "    #shutil.copy2(path, newPath)"
      ],
      "execution_count": null,
      "outputs": [
        {
          "output_type": "stream",
          "text": [
            "Building training set\n",
            "Building validation set\n",
            "Building testing set\n"
          ],
          "name": "stdout"
        }
      ]
    },
    {
      "cell_type": "markdown",
      "metadata": {
        "id": "fBbUZVPnxT-Z"
      },
      "source": [
        "## Cancernet\r\n",
        "\r\n",
        "La CNN tendrá la siguiente estructura:\r\n",
        "\r\n",
        "* 3x3 CONV filters\r\n",
        "* Se apilan estos filtros sobre cada uno de los otros\r\n",
        "* Se realiza max-pooling\r\n",
        "* Se utiliza depthwise separable convolution (más eficiente y se usa menos memoria)"
      ]
    },
    {
      "cell_type": "code",
      "metadata": {
        "id": "txtimfmWokt0"
      },
      "source": [
        "from keras.models import Sequential\r\n",
        "from keras.layers.normalization import BatchNormalization\r\n",
        "from keras.layers.convolutional import SeparableConv2D, MaxPooling2D\r\n",
        "from keras.layers.core import Activation, Flatten, Dropout, Dense\r\n",
        "from keras import backend as K\r\n",
        "\r\n",
        "class CancerNet:\r\n",
        "  @staticmethod\r\n",
        "  def build(width, height, depth, classes):\r\n",
        "    model = Sequential()\r\n",
        "    shape = (height, width, depth)\r\n",
        "    channelDim = -1\r\n",
        "\r\n",
        "    #Se inicializa el modelo y el tamaño\r\n",
        "    if K.image_data_format() == 'channels_first':\r\n",
        "      shape = (depth, height, width)\r\n",
        "      channelDim = 1\r\n",
        "\r\n",
        "    model.add(SeparableConv2D(32, (3,3), padding='same', input_shape = shape))\r\n",
        "    model.add(Activation('relu'))\r\n",
        "    model.add(BatchNormalization(axis=channelDim))\r\n",
        "    model.add(MaxPooling2D(pool_size=(2,2)))\r\n",
        "    model.add(Dropout(0.25))\r\n",
        "\r\n",
        "    model.add(SeparableConv2D(64, (3,3), padding='same'))\r\n",
        "    model.add(Activation('relu'))\r\n",
        "    model.add(BatchNormalization(axis=channelDim))\r\n",
        "    model.add(SeparableConv2D(64, (3,3), padding='same'))\r\n",
        "    model.add(Activation('relu'))\r\n",
        "    model.add(BatchNormalization(axis=channelDim))\r\n",
        "    model.add(MaxPooling2D(pool_size=(2,2)))\r\n",
        "    model.add(Dropout(0.25))\r\n",
        "\r\n",
        "    model.add(SeparableConv2D(128, (3,3), padding='same'))\r\n",
        "    model.add(Activation('relu'))\r\n",
        "    model.add(BatchNormalization(axis=channelDim))\r\n",
        "    model.add(SeparableConv2D(128, (3,3), padding='same'))\r\n",
        "    model.add(Activation('relu'))\r\n",
        "    model.add(BatchNormalization(axis=channelDim))\r\n",
        "    model.add(SeparableConv2D(128, (3,3), padding='same'))\r\n",
        "    model.add(Activation('relu'))\r\n",
        "    model.add(BatchNormalization(axis=channelDim))\r\n",
        "    model.add(MaxPooling2D(pool_size=(2,2)))\r\n",
        "    model.add(Dropout(0.25))\r\n",
        "\r\n",
        "    model.add(Flatten())\r\n",
        "    model.add(Dense(256))\r\n",
        "    model.add(Activation('relu'))\r\n",
        "    model.add(BatchNormalization())\r\n",
        "    model.add(Dropout(0.5))\r\n",
        "\r\n",
        "    model.add(Dense(classes))\r\n",
        "    model.add(Activation('softmax'))\r\n",
        "\r\n",
        "    return model"
      ],
      "execution_count": null,
      "outputs": []
    },
    {
      "cell_type": "markdown",
      "metadata": {
        "id": "ZasKcSs21lTq"
      },
      "source": [
        "## train_model"
      ]
    },
    {
      "cell_type": "code",
      "metadata": {
        "colab": {
          "base_uri": "https://localhost:8080/",
          "height": 1000
        },
        "id": "nAiKqnux1pc7",
        "outputId": "65be275a-a3c8-46f1-fa12-d28656343ee0"
      },
      "source": [
        "import matplotlib\r\n",
        "matplotlib.use('Agg')\r\n",
        "\r\n",
        "from keras.preprocessing.image import ImageDataGenerator\r\n",
        "from keras.callbacks import LearningRateScheduler\r\n",
        "from keras.optimizers import Adagrad\r\n",
        "from keras.utils import np_utils\r\n",
        "from sklearn.metrics import classification_report, confusion_matrix\r\n",
        "\r\n",
        "import numpy as np\r\n",
        "import matplotlib.pyplot as plt\r\n",
        "\r\n",
        "NUM_EPOCHS = 40\r\n",
        "INIT_LR = 1e-2\r\n",
        "BS = 32\r\n",
        "\r\n",
        "trainPaths = list(paths.list_images(TRAIN_PATH))\r\n",
        "lenTrain = len(trainPaths)\r\n",
        "lenVal = len(list(paths.list_images(VAL_PATH)))\r\n",
        "lenTest = len(list(paths.list_images(TEST_PATH)))\r\n",
        "\r\n",
        "trainLabels = [int(p.split(os.path.sep)[-2]) for p in trainPaths]\r\n",
        "trainLabels = np_utils.to_categorical(trainLabels)\r\n",
        "classTotals = trainLabels.sum(axis=0)\r\n",
        "classWeight = classTotals.max() / classTotals\r\n",
        "\r\n",
        "#Onjeto de aumento de datos de entrenamiento\r\n",
        "# ayuda a generalizar el modelo con una regularización\r\n",
        "# \r\n",
        "trainAug = ImageDataGenerator(rescale = 1/255.0,\r\n",
        "                              rotation_range = 20,\r\n",
        "                              zoom_range = 0.05,\r\n",
        "                              width_shift_range = 0.1,\r\n",
        "                              height_shift_range = 0.1,\r\n",
        "                              shear_range = 0.05,\r\n",
        "                              horizontal_flip = True,\r\n",
        "                              vertical_flip = True,\r\n",
        "                              fill_mode = 'nearest')\r\n",
        "\r\n",
        "valAug = ImageDataGenerator(rescale = 1/255.0)\r\n",
        "\r\n",
        "#Generando los batch de imágenes para los conjuntos de entrenamiento, validación y test\r\n",
        "trainGen = trainAug.flow_from_directory(TRAIN_PATH,\r\n",
        "                                        class_mode = 'categorical',\r\n",
        "                                        target_size = (48,48),\r\n",
        "                                        color_mode = 'rgb',\r\n",
        "                                        shuffle = True,\r\n",
        "                                        batch_size = BS)\r\n",
        "\r\n",
        "valGen = valAug.flow_from_directory(VAL_PATH,\r\n",
        "                                    class_mode = 'categorical',\r\n",
        "                                    target_size = (48,48),\r\n",
        "                                    color_mode = 'rgb',\r\n",
        "                                    shuffle = False,\r\n",
        "                                    batch_size = BS)\r\n",
        "\r\n",
        "testGen = valAug.flow_from_directory(TEST_PATH,\r\n",
        "                                    class_mode = 'categorical',\r\n",
        "                                    target_size = (48,48),\r\n",
        "                                    color_mode = 'rgb',\r\n",
        "                                    shuffle = False,\r\n",
        "                                    batch_size = BS)\r\n",
        "\r\n",
        "model = CancerNet.build(width=48, height=48, depth=3, classes=2)\r\n",
        "opt = Adagrad(lr=INIT_LR, decay=INIT_LR/NUM_EPOCHS)\r\n",
        "model.compile(loss='binary_crossentropy', optimizer=opt, metrics=['accuracy'])\r\n",
        "\r\n",
        "#Entrenando el modelo\r\n",
        "M = model.fit(trainGen,\r\n",
        "              steps_per_epoch = lenTrain // BS,\r\n",
        "              validation_data = valGen,\r\n",
        "              validation_steps = lenVal // BS,\r\n",
        "              #class_weight = classWeight,\r\n",
        "              epochs = NUM_EPOCHS)\r\n",
        "\r\n",
        "print('Evaluando el modelo')\r\n",
        "testGen.reset()\r\n",
        "pred_indices = model.predict_generator(testGen, steps=(lenTest))\r\n",
        "\r\n",
        "pred_indices = np.argmax(pred_indices, axis=1)\r\n",
        "\r\n",
        "print(classification_report(testGen.classes,\r\n",
        "                            pred_indices,\r\n",
        "                            target_names=testGen.class_indices.keys()))\r\n",
        "\r\n",
        "cm = confusion_matrix(testGen.classes, pred_indices)\r\n",
        "total = sum(sum(cm))\r\n",
        "accuracy = (cm[0,0] + cm[1,1] / total)\r\n",
        "specificity = cm[1,1] / (cm[1,0] + cm[1,1])\r\n",
        "sensitivity = cm[0,0] / (cm[0,0] + cm[0,1])\r\n",
        "print(cm)\r\n",
        "print(f'Accuracy: {accuracy}')\r\n",
        "print(f'Specificity: {specificity}')\r\n",
        "print(f'Sensitivity: {sensitivity}')\r\n",
        "\r\n",
        "N = NUM_EPOCHS\r\n",
        "plt.style.use('ggplot')\r\n",
        "plt.figure()\r\n",
        "plt.plot(np.arange(0,N), M.history['loss'], label='train_loss')\r\n",
        "plt.plot(np.arange(0,N), M.history['val_loss'], label='val_loss')\r\n",
        "plt.plot(np.arange(0,N), M.history['acc'], label='train_acc')\r\n",
        "plt.plot(np.arange(0,N), M.history['val_acc'], label='val_acc')\r\n",
        "plt.tilte('Pérdida en entrenamiento y exactitud')\r\n",
        "plt.xlabel('Época ')\r\n",
        "plt.ylabel('Loss/Accuracy')\r\n",
        "plt.legend(loc='lower left')\r\n",
        "plt.show()"
      ],
      "execution_count": null,
      "outputs": [
        {
          "output_type": "stream",
          "text": [
            "Found 24755 images belonging to 2 classes.\n",
            "Found 0 images belonging to 2 classes.\n",
            "Found 0 images belonging to 2 classes.\n",
            "Epoch 1/40\n",
            "644/773 [=======================>......] - ETA: 32:39 - loss: 0.5593 - accuracy: 0.7947"
          ],
          "name": "stdout"
        },
        {
          "output_type": "error",
          "ename": "UnknownError",
          "evalue": "ignored",
          "traceback": [
            "\u001b[0;31m---------------------------------------------------------------------------\u001b[0m",
            "\u001b[0;31mUnknownError\u001b[0m                              Traceback (most recent call last)",
            "\u001b[0;32m<ipython-input-47-425c303d9d16>\u001b[0m in \u001b[0;36m<module>\u001b[0;34m()\u001b[0m\n\u001b[1;32m     72\u001b[0m               \u001b[0mvalidation_steps\u001b[0m \u001b[0;34m=\u001b[0m \u001b[0mlenVal\u001b[0m \u001b[0;34m//\u001b[0m \u001b[0mBS\u001b[0m\u001b[0;34m,\u001b[0m\u001b[0;34m\u001b[0m\u001b[0;34m\u001b[0m\u001b[0m\n\u001b[1;32m     73\u001b[0m               \u001b[0;31m#class_weight = classWeight,\u001b[0m\u001b[0;34m\u001b[0m\u001b[0;34m\u001b[0m\u001b[0;34m\u001b[0m\u001b[0m\n\u001b[0;32m---> 74\u001b[0;31m               epochs = NUM_EPOCHS)\n\u001b[0m\u001b[1;32m     75\u001b[0m \u001b[0;34m\u001b[0m\u001b[0m\n\u001b[1;32m     76\u001b[0m \u001b[0mprint\u001b[0m\u001b[0;34m(\u001b[0m\u001b[0;34m'Evaluando el modelo'\u001b[0m\u001b[0;34m)\u001b[0m\u001b[0;34m\u001b[0m\u001b[0;34m\u001b[0m\u001b[0m\n",
            "\u001b[0;32m/usr/local/lib/python3.6/dist-packages/tensorflow/python/keras/engine/training.py\u001b[0m in \u001b[0;36mfit\u001b[0;34m(self, x, y, batch_size, epochs, verbose, callbacks, validation_split, validation_data, shuffle, class_weight, sample_weight, initial_epoch, steps_per_epoch, validation_steps, validation_batch_size, validation_freq, max_queue_size, workers, use_multiprocessing)\u001b[0m\n\u001b[1;32m   1098\u001b[0m                 _r=1):\n\u001b[1;32m   1099\u001b[0m               \u001b[0mcallbacks\u001b[0m\u001b[0;34m.\u001b[0m\u001b[0mon_train_batch_begin\u001b[0m\u001b[0;34m(\u001b[0m\u001b[0mstep\u001b[0m\u001b[0;34m)\u001b[0m\u001b[0;34m\u001b[0m\u001b[0;34m\u001b[0m\u001b[0m\n\u001b[0;32m-> 1100\u001b[0;31m               \u001b[0mtmp_logs\u001b[0m \u001b[0;34m=\u001b[0m \u001b[0mself\u001b[0m\u001b[0;34m.\u001b[0m\u001b[0mtrain_function\u001b[0m\u001b[0;34m(\u001b[0m\u001b[0miterator\u001b[0m\u001b[0;34m)\u001b[0m\u001b[0;34m\u001b[0m\u001b[0;34m\u001b[0m\u001b[0m\n\u001b[0m\u001b[1;32m   1101\u001b[0m               \u001b[0;32mif\u001b[0m \u001b[0mdata_handler\u001b[0m\u001b[0;34m.\u001b[0m\u001b[0mshould_sync\u001b[0m\u001b[0;34m:\u001b[0m\u001b[0;34m\u001b[0m\u001b[0;34m\u001b[0m\u001b[0m\n\u001b[1;32m   1102\u001b[0m                 \u001b[0mcontext\u001b[0m\u001b[0;34m.\u001b[0m\u001b[0masync_wait\u001b[0m\u001b[0;34m(\u001b[0m\u001b[0;34m)\u001b[0m\u001b[0;34m\u001b[0m\u001b[0;34m\u001b[0m\u001b[0m\n",
            "\u001b[0;32m/usr/local/lib/python3.6/dist-packages/tensorflow/python/eager/def_function.py\u001b[0m in \u001b[0;36m__call__\u001b[0;34m(self, *args, **kwds)\u001b[0m\n\u001b[1;32m    826\u001b[0m     \u001b[0mtracing_count\u001b[0m \u001b[0;34m=\u001b[0m \u001b[0mself\u001b[0m\u001b[0;34m.\u001b[0m\u001b[0mexperimental_get_tracing_count\u001b[0m\u001b[0;34m(\u001b[0m\u001b[0;34m)\u001b[0m\u001b[0;34m\u001b[0m\u001b[0;34m\u001b[0m\u001b[0m\n\u001b[1;32m    827\u001b[0m     \u001b[0;32mwith\u001b[0m \u001b[0mtrace\u001b[0m\u001b[0;34m.\u001b[0m\u001b[0mTrace\u001b[0m\u001b[0;34m(\u001b[0m\u001b[0mself\u001b[0m\u001b[0;34m.\u001b[0m\u001b[0m_name\u001b[0m\u001b[0;34m)\u001b[0m \u001b[0;32mas\u001b[0m \u001b[0mtm\u001b[0m\u001b[0;34m:\u001b[0m\u001b[0;34m\u001b[0m\u001b[0;34m\u001b[0m\u001b[0m\n\u001b[0;32m--> 828\u001b[0;31m       \u001b[0mresult\u001b[0m \u001b[0;34m=\u001b[0m \u001b[0mself\u001b[0m\u001b[0;34m.\u001b[0m\u001b[0m_call\u001b[0m\u001b[0;34m(\u001b[0m\u001b[0;34m*\u001b[0m\u001b[0margs\u001b[0m\u001b[0;34m,\u001b[0m \u001b[0;34m**\u001b[0m\u001b[0mkwds\u001b[0m\u001b[0;34m)\u001b[0m\u001b[0;34m\u001b[0m\u001b[0;34m\u001b[0m\u001b[0m\n\u001b[0m\u001b[1;32m    829\u001b[0m       \u001b[0mcompiler\u001b[0m \u001b[0;34m=\u001b[0m \u001b[0;34m\"xla\"\u001b[0m \u001b[0;32mif\u001b[0m \u001b[0mself\u001b[0m\u001b[0;34m.\u001b[0m\u001b[0m_experimental_compile\u001b[0m \u001b[0;32melse\u001b[0m \u001b[0;34m\"nonXla\"\u001b[0m\u001b[0;34m\u001b[0m\u001b[0;34m\u001b[0m\u001b[0m\n\u001b[1;32m    830\u001b[0m       \u001b[0mnew_tracing_count\u001b[0m \u001b[0;34m=\u001b[0m \u001b[0mself\u001b[0m\u001b[0;34m.\u001b[0m\u001b[0mexperimental_get_tracing_count\u001b[0m\u001b[0;34m(\u001b[0m\u001b[0;34m)\u001b[0m\u001b[0;34m\u001b[0m\u001b[0;34m\u001b[0m\u001b[0m\n",
            "\u001b[0;32m/usr/local/lib/python3.6/dist-packages/tensorflow/python/eager/def_function.py\u001b[0m in \u001b[0;36m_call\u001b[0;34m(self, *args, **kwds)\u001b[0m\n\u001b[1;32m    853\u001b[0m       \u001b[0;31m# In this case we have created variables on the first call, so we run the\u001b[0m\u001b[0;34m\u001b[0m\u001b[0;34m\u001b[0m\u001b[0;34m\u001b[0m\u001b[0m\n\u001b[1;32m    854\u001b[0m       \u001b[0;31m# defunned version which is guaranteed to never create variables.\u001b[0m\u001b[0;34m\u001b[0m\u001b[0;34m\u001b[0m\u001b[0;34m\u001b[0m\u001b[0m\n\u001b[0;32m--> 855\u001b[0;31m       \u001b[0;32mreturn\u001b[0m \u001b[0mself\u001b[0m\u001b[0;34m.\u001b[0m\u001b[0m_stateless_fn\u001b[0m\u001b[0;34m(\u001b[0m\u001b[0;34m*\u001b[0m\u001b[0margs\u001b[0m\u001b[0;34m,\u001b[0m \u001b[0;34m**\u001b[0m\u001b[0mkwds\u001b[0m\u001b[0;34m)\u001b[0m  \u001b[0;31m# pylint: disable=not-callable\u001b[0m\u001b[0;34m\u001b[0m\u001b[0;34m\u001b[0m\u001b[0m\n\u001b[0m\u001b[1;32m    856\u001b[0m     \u001b[0;32melif\u001b[0m \u001b[0mself\u001b[0m\u001b[0;34m.\u001b[0m\u001b[0m_stateful_fn\u001b[0m \u001b[0;32mis\u001b[0m \u001b[0;32mnot\u001b[0m \u001b[0;32mNone\u001b[0m\u001b[0;34m:\u001b[0m\u001b[0;34m\u001b[0m\u001b[0;34m\u001b[0m\u001b[0m\n\u001b[1;32m    857\u001b[0m       \u001b[0;31m# Release the lock early so that multiple threads can perform the call\u001b[0m\u001b[0;34m\u001b[0m\u001b[0;34m\u001b[0m\u001b[0;34m\u001b[0m\u001b[0m\n",
            "\u001b[0;32m/usr/local/lib/python3.6/dist-packages/tensorflow/python/eager/function.py\u001b[0m in \u001b[0;36m__call__\u001b[0;34m(self, *args, **kwargs)\u001b[0m\n\u001b[1;32m   2941\u001b[0m        filtered_flat_args) = self._maybe_define_function(args, kwargs)\n\u001b[1;32m   2942\u001b[0m     return graph_function._call_flat(\n\u001b[0;32m-> 2943\u001b[0;31m         filtered_flat_args, captured_inputs=graph_function.captured_inputs)  # pylint: disable=protected-access\n\u001b[0m\u001b[1;32m   2944\u001b[0m \u001b[0;34m\u001b[0m\u001b[0m\n\u001b[1;32m   2945\u001b[0m   \u001b[0;34m@\u001b[0m\u001b[0mproperty\u001b[0m\u001b[0;34m\u001b[0m\u001b[0;34m\u001b[0m\u001b[0m\n",
            "\u001b[0;32m/usr/local/lib/python3.6/dist-packages/tensorflow/python/eager/function.py\u001b[0m in \u001b[0;36m_call_flat\u001b[0;34m(self, args, captured_inputs, cancellation_manager)\u001b[0m\n\u001b[1;32m   1917\u001b[0m       \u001b[0;31m# No tape is watching; skip to running the function.\u001b[0m\u001b[0;34m\u001b[0m\u001b[0;34m\u001b[0m\u001b[0;34m\u001b[0m\u001b[0m\n\u001b[1;32m   1918\u001b[0m       return self._build_call_outputs(self._inference_function.call(\n\u001b[0;32m-> 1919\u001b[0;31m           ctx, args, cancellation_manager=cancellation_manager))\n\u001b[0m\u001b[1;32m   1920\u001b[0m     forward_backward = self._select_forward_and_backward_functions(\n\u001b[1;32m   1921\u001b[0m         \u001b[0margs\u001b[0m\u001b[0;34m,\u001b[0m\u001b[0;34m\u001b[0m\u001b[0;34m\u001b[0m\u001b[0m\n",
            "\u001b[0;32m/usr/local/lib/python3.6/dist-packages/tensorflow/python/eager/function.py\u001b[0m in \u001b[0;36mcall\u001b[0;34m(self, ctx, args, cancellation_manager)\u001b[0m\n\u001b[1;32m    558\u001b[0m               \u001b[0minputs\u001b[0m\u001b[0;34m=\u001b[0m\u001b[0margs\u001b[0m\u001b[0;34m,\u001b[0m\u001b[0;34m\u001b[0m\u001b[0;34m\u001b[0m\u001b[0m\n\u001b[1;32m    559\u001b[0m               \u001b[0mattrs\u001b[0m\u001b[0;34m=\u001b[0m\u001b[0mattrs\u001b[0m\u001b[0;34m,\u001b[0m\u001b[0;34m\u001b[0m\u001b[0;34m\u001b[0m\u001b[0m\n\u001b[0;32m--> 560\u001b[0;31m               ctx=ctx)\n\u001b[0m\u001b[1;32m    561\u001b[0m         \u001b[0;32melse\u001b[0m\u001b[0;34m:\u001b[0m\u001b[0;34m\u001b[0m\u001b[0;34m\u001b[0m\u001b[0m\n\u001b[1;32m    562\u001b[0m           outputs = execute.execute_with_cancellation(\n",
            "\u001b[0;32m/usr/local/lib/python3.6/dist-packages/tensorflow/python/eager/execute.py\u001b[0m in \u001b[0;36mquick_execute\u001b[0;34m(op_name, num_outputs, inputs, attrs, ctx, name)\u001b[0m\n\u001b[1;32m     58\u001b[0m     \u001b[0mctx\u001b[0m\u001b[0;34m.\u001b[0m\u001b[0mensure_initialized\u001b[0m\u001b[0;34m(\u001b[0m\u001b[0;34m)\u001b[0m\u001b[0;34m\u001b[0m\u001b[0;34m\u001b[0m\u001b[0m\n\u001b[1;32m     59\u001b[0m     tensors = pywrap_tfe.TFE_Py_Execute(ctx._handle, device_name, op_name,\n\u001b[0;32m---> 60\u001b[0;31m                                         inputs, attrs, num_outputs)\n\u001b[0m\u001b[1;32m     61\u001b[0m   \u001b[0;32mexcept\u001b[0m \u001b[0mcore\u001b[0m\u001b[0;34m.\u001b[0m\u001b[0m_NotOkStatusException\u001b[0m \u001b[0;32mas\u001b[0m \u001b[0me\u001b[0m\u001b[0;34m:\u001b[0m\u001b[0;34m\u001b[0m\u001b[0;34m\u001b[0m\u001b[0m\n\u001b[1;32m     62\u001b[0m     \u001b[0;32mif\u001b[0m \u001b[0mname\u001b[0m \u001b[0;32mis\u001b[0m \u001b[0;32mnot\u001b[0m \u001b[0;32mNone\u001b[0m\u001b[0;34m:\u001b[0m\u001b[0;34m\u001b[0m\u001b[0;34m\u001b[0m\u001b[0m\n",
            "\u001b[0;31mUnknownError\u001b[0m:  UnidentifiedImageError: cannot identify image file <_io.BytesIO object at 0x7f2d29329888>\nTraceback (most recent call last):\n\n  File \"/usr/local/lib/python3.6/dist-packages/tensorflow/python/ops/script_ops.py\", line 249, in __call__\n    ret = func(*args)\n\n  File \"/usr/local/lib/python3.6/dist-packages/tensorflow/python/autograph/impl/api.py\", line 620, in wrapper\n    return func(*args, **kwargs)\n\n  File \"/usr/local/lib/python3.6/dist-packages/tensorflow/python/data/ops/dataset_ops.py\", line 891, in generator_py_func\n    values = next(generator_state.get_iterator(iterator_id))\n\n  File \"/usr/local/lib/python3.6/dist-packages/tensorflow/python/keras/engine/data_adapter.py\", line 807, in wrapped_generator\n    for data in generator_fn():\n\n  File \"/usr/local/lib/python3.6/dist-packages/tensorflow/python/keras/engine/data_adapter.py\", line 933, in generator_fn\n    yield x[i]\n\n  File \"/usr/local/lib/python3.6/dist-packages/keras_preprocessing/image/iterator.py\", line 65, in __getitem__\n    return self._get_batches_of_transformed_samples(index_array)\n\n  File \"/usr/local/lib/python3.6/dist-packages/keras_preprocessing/image/iterator.py\", line 230, in _get_batches_of_transformed_samples\n    interpolation=self.interpolation)\n\n  File \"/usr/local/lib/python3.6/dist-packages/keras_preprocessing/image/utils.py\", line 114, in load_img\n    img = pil_image.open(io.BytesIO(f.read()))\n\n  File \"/usr/local/lib/python3.6/dist-packages/PIL/Image.py\", line 2862, in open\n    \"cannot identify image file %r\" % (filename if filename else fp)\n\nPIL.UnidentifiedImageError: cannot identify image file <_io.BytesIO object at 0x7f2d29329888>\n\n\n\t [[{{node PyFunc}}]]\n\t [[IteratorGetNext]] [Op:__inference_train_function_6013]\n\nFunction call stack:\ntrain_function\n"
          ]
        }
      ]
    }
  ]
}
