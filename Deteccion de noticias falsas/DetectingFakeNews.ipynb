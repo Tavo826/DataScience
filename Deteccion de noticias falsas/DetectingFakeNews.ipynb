{
  "nbformat": 4,
  "nbformat_minor": 0,
  "metadata": {
    "colab": {
      "name": "DetectingFakeNews.ipynb",
      "provenance": [],
      "collapsed_sections": [],
      "toc_visible": true,
      "mount_file_id": "1FSh5O8D2oTBOeZg5Cgdl2fzZaPDoeNqQ",
      "authorship_tag": "ABX9TyMPJrkIgtQMhdXU9JsbV2vZ",
      "include_colab_link": true
    },
    "kernelspec": {
      "name": "python3",
      "display_name": "Python 3"
    }
  },
  "cells": [
    {
      "cell_type": "markdown",
      "metadata": {
        "id": "view-in-github",
        "colab_type": "text"
      },
      "source": [
        "<a href=\"https://colab.research.google.com/github/Tavo826/DataScience/blob/main/DetectingFakeNews.ipynb\" target=\"_parent\"><img src=\"https://colab.research.google.com/assets/colab-badge.svg\" alt=\"Open In Colab\"/></a>"
      ]
    },
    {
      "cell_type": "markdown",
      "metadata": {
        "id": "fqdmf14x7XmU"
      },
      "source": [
        "# TfidfVectorizer\r\n",
        "\r\n",
        "**TF (Term Frequency):** El número de veces que una palabra aparece en un documento. Un valo ralto significa que un término aparece más amenudo que otros, además, el documento es una buena coincidencia cuando el término hace parte de los términos de búsqueda.\r\n",
        "\r\n",
        "**IDF (Inverse Document Frequency):** Palabras que aparecen muchas veces en el documento, pero también aparecen muchas veces en muchos otros, puede ser irrelevante. Es una medida de cuán significante es un término en el cuerpo del texto.\r\n",
        "\r\n",
        "El TfidfVectorizer cpnvierte una colección de documentos en una matriz de características TF-IDF.\r\n",
        "\r\n",
        "## PassiveAggressiveClassifier\r\n",
        "\r\n",
        "Son algoritmos de aprendizaje online. Este permanece pasivo para un resultado de clasificación correcto y se vuelve agresivo en caso de un error de cálculo, actualización y ajuste. Este algoritmo no converge, su propósito es hacer actualizaciones que corrige la pérdida, causando un pequeño cambio en la norma del vector de pesos.\r\n",
        "\r\n",
        "## Dataset\r\n",
        "\r\n",
        "news.csv tiene un tamaño de 7796x4. La primera columna identifica la columna, la segunda y tercera son el título y el texto, y la cuarta contiene las etiquetas que denotan si es REAL o FAKE. "
      ]
    },
    {
      "cell_type": "code",
      "metadata": {
        "id": "xK0-4RVr5Tx8"
      },
      "source": [
        "import os\r\n",
        "import numpy as np\r\n",
        "import pandas as pd\r\n",
        "import itertools\r\n",
        "import matplotlib.pyplot as plt\r\n",
        "\r\n",
        "from sklearn.model_selection import train_test_split\r\n",
        "from sklearn.feature_extraction.text import TfidfVectorizer\r\n",
        "from sklearn.linear_model import PassiveAggressiveClassifier\r\n",
        "from sklearn.utils.multiclass import unique_labels\r\n",
        "from sklearn.metrics import accuracy_score, confusion_matrix, classification_report\r\n",
        "\r\n",
        "os.chdir('/content/drive/MyDrive/Colab Notebooks/Data Science/Detección de noticias falsas')"
      ],
      "execution_count": null,
      "outputs": []
    },
    {
      "cell_type": "code",
      "metadata": {
        "colab": {
          "base_uri": "https://localhost:8080/",
          "height": 376
        },
        "id": "EyK68cVJX71k",
        "outputId": "2ad41648-2753-410c-b133-479579d08e52"
      },
      "source": [
        "df = pd.read_csv('news.csv')\r\n",
        "\r\n",
        "print(df.shape)\r\n",
        "df.head(10)"
      ],
      "execution_count": null,
      "outputs": [
        {
          "output_type": "stream",
          "text": [
            "(6335, 4)\n"
          ],
          "name": "stdout"
        },
        {
          "output_type": "execute_result",
          "data": {
            "text/html": [
              "<div>\n",
              "<style scoped>\n",
              "    .dataframe tbody tr th:only-of-type {\n",
              "        vertical-align: middle;\n",
              "    }\n",
              "\n",
              "    .dataframe tbody tr th {\n",
              "        vertical-align: top;\n",
              "    }\n",
              "\n",
              "    .dataframe thead th {\n",
              "        text-align: right;\n",
              "    }\n",
              "</style>\n",
              "<table border=\"1\" class=\"dataframe\">\n",
              "  <thead>\n",
              "    <tr style=\"text-align: right;\">\n",
              "      <th></th>\n",
              "      <th>Unnamed: 0</th>\n",
              "      <th>title</th>\n",
              "      <th>text</th>\n",
              "      <th>label</th>\n",
              "    </tr>\n",
              "  </thead>\n",
              "  <tbody>\n",
              "    <tr>\n",
              "      <th>0</th>\n",
              "      <td>8476</td>\n",
              "      <td>You Can Smell Hillary’s Fear</td>\n",
              "      <td>Daniel Greenfield, a Shillman Journalism Fello...</td>\n",
              "      <td>FAKE</td>\n",
              "    </tr>\n",
              "    <tr>\n",
              "      <th>1</th>\n",
              "      <td>10294</td>\n",
              "      <td>Watch The Exact Moment Paul Ryan Committed Pol...</td>\n",
              "      <td>Google Pinterest Digg Linkedin Reddit Stumbleu...</td>\n",
              "      <td>FAKE</td>\n",
              "    </tr>\n",
              "    <tr>\n",
              "      <th>2</th>\n",
              "      <td>3608</td>\n",
              "      <td>Kerry to go to Paris in gesture of sympathy</td>\n",
              "      <td>U.S. Secretary of State John F. Kerry said Mon...</td>\n",
              "      <td>REAL</td>\n",
              "    </tr>\n",
              "    <tr>\n",
              "      <th>3</th>\n",
              "      <td>10142</td>\n",
              "      <td>Bernie supporters on Twitter erupt in anger ag...</td>\n",
              "      <td>— Kaydee King (@KaydeeKing) November 9, 2016 T...</td>\n",
              "      <td>FAKE</td>\n",
              "    </tr>\n",
              "    <tr>\n",
              "      <th>4</th>\n",
              "      <td>875</td>\n",
              "      <td>The Battle of New York: Why This Primary Matters</td>\n",
              "      <td>It's primary day in New York and front-runners...</td>\n",
              "      <td>REAL</td>\n",
              "    </tr>\n",
              "    <tr>\n",
              "      <th>5</th>\n",
              "      <td>6903</td>\n",
              "      <td>Tehran, USA</td>\n",
              "      <td>\\nI’m not an immigrant, but my grandparents ...</td>\n",
              "      <td>FAKE</td>\n",
              "    </tr>\n",
              "    <tr>\n",
              "      <th>6</th>\n",
              "      <td>7341</td>\n",
              "      <td>Girl Horrified At What She Watches Boyfriend D...</td>\n",
              "      <td>Share This Baylee Luciani (left), Screenshot o...</td>\n",
              "      <td>FAKE</td>\n",
              "    </tr>\n",
              "    <tr>\n",
              "      <th>7</th>\n",
              "      <td>95</td>\n",
              "      <td>‘Britain’s Schindler’ Dies at 106</td>\n",
              "      <td>A Czech stockbroker who saved more than 650 Je...</td>\n",
              "      <td>REAL</td>\n",
              "    </tr>\n",
              "    <tr>\n",
              "      <th>8</th>\n",
              "      <td>4869</td>\n",
              "      <td>Fact check: Trump and Clinton at the 'commande...</td>\n",
              "      <td>Hillary Clinton and Donald Trump made some ina...</td>\n",
              "      <td>REAL</td>\n",
              "    </tr>\n",
              "    <tr>\n",
              "      <th>9</th>\n",
              "      <td>2909</td>\n",
              "      <td>Iran reportedly makes new push for uranium con...</td>\n",
              "      <td>Iranian negotiators reportedly have made a las...</td>\n",
              "      <td>REAL</td>\n",
              "    </tr>\n",
              "  </tbody>\n",
              "</table>\n",
              "</div>"
            ],
            "text/plain": [
              "   Unnamed: 0  ... label\n",
              "0        8476  ...  FAKE\n",
              "1       10294  ...  FAKE\n",
              "2        3608  ...  REAL\n",
              "3       10142  ...  FAKE\n",
              "4         875  ...  REAL\n",
              "5        6903  ...  FAKE\n",
              "6        7341  ...  FAKE\n",
              "7          95  ...  REAL\n",
              "8        4869  ...  REAL\n",
              "9        2909  ...  REAL\n",
              "\n",
              "[10 rows x 4 columns]"
            ]
          },
          "metadata": {
            "tags": []
          },
          "execution_count": 2
        }
      ]
    },
    {
      "cell_type": "code",
      "metadata": {
        "id": "NtSlB97_Ygyb"
      },
      "source": [
        "#Obteniendo las etiquetas\r\n",
        "labels = df.label\r\n",
        "#Separando el dataset en train y test\r\n",
        "x_train, x_test, y_train, y_test = train_test_split(df['text'], labels, test_size=0.2, random_state=7)"
      ],
      "execution_count": null,
      "outputs": []
    },
    {
      "cell_type": "markdown",
      "metadata": {
        "id": "FrHUaa_kY-T7"
      },
      "source": [
        "Se inicializa el TfidfVectorizer con palabras vaciás del inglés y una frecuencia de documento máima de 0.7 (se descartan los términos con una frecuencia de documento mayor). Las palabras vacías son las palabras más comunes en un idioma que se deben filtrar antes de procesar los datos del lenguaje natural"
      ]
    },
    {
      "cell_type": "code",
      "metadata": {
        "id": "TjOlXrJNY-07"
      },
      "source": [
        "#inicializando TfidfVectorizer()\r\n",
        "tfidf_vctorizer = TfidfVectorizer(stop_words='english', max_df=0.7)\r\n",
        "\r\n",
        "#fit_transform y transform\r\n",
        "tfidf_train = tfidf_vctorizer.fit_transform(x_train)\r\n",
        "tfidf_test = tfidf_vctorizer.transform(x_test)"
      ],
      "execution_count": null,
      "outputs": []
    },
    {
      "cell_type": "code",
      "metadata": {
        "id": "R6lkFAL9aeVb",
        "colab": {
          "base_uri": "https://localhost:8080/"
        },
        "outputId": "c10f30d7-6de3-49b1-91f3-7a16eb6fe60d"
      },
      "source": [
        "#inicializando PassiveAggressiveClassifier()\r\n",
        "pac = PassiveAggressiveClassifier(max_iter=50)\r\n",
        "pac.fit(tfidf_train, y_train)\r\n",
        "\r\n",
        "#Realizando predicción\r\n",
        "y_pred = pac.predict(tfidf_test)\r\n",
        "score = accuracy_score(y_test, y_pred)\r\n",
        "print(f'Accuracy: {round(score*100,2)}')"
      ],
      "execution_count": null,
      "outputs": [
        {
          "output_type": "stream",
          "text": [
            "Accuracy: 93.13\n"
          ],
          "name": "stdout"
        }
      ]
    },
    {
      "cell_type": "code",
      "metadata": {
        "id": "u3WpClhP8Nw2"
      },
      "source": [
        "def plot_confusion_matrix(y_true, y_pred, classes, normalize=False,\r\n",
        "                          title=None, cmap=plt.cm.Blues):\r\n",
        "  \r\n",
        "  if not title:\r\n",
        "    if normalize:\r\n",
        "      title = 'Normalized confusion matrix'\r\n",
        "    else:\r\n",
        "      title = 'Confusion matrix, without normalization'\r\n",
        "  \r\n",
        "  #Calulando la matriz de confusión\r\n",
        "  cm = confusion_matrix(y_true, y_pred)\r\n",
        "  print(cm)\r\n",
        "  #Solo se usan las etiquetas que aparecen en los datos\r\n",
        "  #classes = classes[unique_labels(y_true, y_pred)]\r\n",
        "  if normalize: cm = 100 * cm.astype('float') / cm.sum(axis=1)[:, np.newaxis]\r\n",
        "\r\n",
        "  fig, ax = plt.subplots()\r\n",
        "  im = ax.imshow(cm, interpolation='nearest', cmap=cmap)\r\n",
        "  ax.figure.colorbar(im, ax=ax)\r\n",
        "\r\n",
        "  #mostrando las etiquetas\r\n",
        "  ax.set(xticks = np.arange(cm.shape[1]),\r\n",
        "         yticks = np.arange(cm.shape[0]),\r\n",
        "         xticklabels = classes, yticklabels=classes, \r\n",
        "         title = title,\r\n",
        "         ylabel = 'True label',\r\n",
        "         xlabel = 'Predicted label')\r\n",
        "  \r\n",
        "  #rotando los ejes\r\n",
        "  plt.setp(ax.get_xticklabels(), rotation=45, ha='right',\r\n",
        "           rotation_mode='anchor')\r\n",
        "  \r\n",
        "  #Se recorren las dimensiones de los datos y se crean las anotaciones\r\n",
        "  fmt = '.1f' if normalize else 'd'\r\n",
        "  thresh = cm.max() / 2\r\n",
        "  for i in range(cm.shape[0]):\r\n",
        "    for j in range(cm.shape[1]):\r\n",
        "      ax.text(j, i, format(cm[i,j], fmt),\r\n",
        "              ha='center', va='center',\r\n",
        "              color='white' if cm[i,j] > thresh else 'black')\r\n",
        "  fig.tight_layout()\r\n",
        "  return ax"
      ],
      "execution_count": null,
      "outputs": []
    },
    {
      "cell_type": "code",
      "metadata": {
        "colab": {
          "base_uri": "https://localhost:8080/",
          "height": 484
        },
        "id": "q8AaFh3q8Pbu",
        "outputId": "ddc7171c-8375-4fd9-9836-21cf05da015d"
      },
      "source": [
        "plot_confusion_matrix(y_test, y_pred,\r\n",
        "                      classes=np.unique(labels),\r\n",
        "                      normalize=True,\r\n",
        "                      title='ACC = %.1f %%' % (100*score))\r\n",
        "\r\n",
        "cr = classification_report(y_test, y_pred,\r\n",
        "                           #labels = range(len(np.unique(labels))),\r\n",
        "                           target_names = np.unique(labels))\r\n",
        "\r\n",
        "print(cr) #Algo anda mal???"
      ],
      "execution_count": null,
      "outputs": [
        {
          "output_type": "stream",
          "text": [
            "[[593  45]\n",
            " [ 42 587]]\n",
            "              precision    recall  f1-score   support\n",
            "\n",
            "        FAKE       0.93      0.93      0.93       638\n",
            "        REAL       0.93      0.93      0.93       629\n",
            "\n",
            "    accuracy                           0.93      1267\n",
            "   macro avg       0.93      0.93      0.93      1267\n",
            "weighted avg       0.93      0.93      0.93      1267\n",
            "\n"
          ],
          "name": "stdout"
        },
        {
          "output_type": "display_data",
          "data": {
            "image/png": "[encoded data removed]",
            "text/plain": [
              "<Figure size 432x288 with 2 Axes>"
            ]
          },
          "metadata": {
            "tags": [],
            "needs_background": "light"
          }
        }
      ]
    },
    {
      "cell_type": "code",
      "metadata": {
        "colab": {
          "base_uri": "https://localhost:8080/"
        },
        "id": "CQgrWwaCLEZP",
        "outputId": "edc8f801-92bd-49c3-80d4-009729ebcbd2"
      },
      "source": [
        "confusion_matrix(y_test, y_pred)"
      ],
      "execution_count": null,
      "outputs": [
        {
          "output_type": "execute_result",
          "data": {
            "text/plain": [
              "array([[593,  45],\n",
              "       [ 42, 587]])"
            ]
          },
          "metadata": {
            "tags": []
          },
          "execution_count": 43
        }
      ]
    }
  ]
}
