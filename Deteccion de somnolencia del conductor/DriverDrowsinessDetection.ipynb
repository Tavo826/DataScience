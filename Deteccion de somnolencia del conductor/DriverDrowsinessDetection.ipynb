{
  "nbformat": 4,
  "nbformat_minor": 0,
  "metadata": {
    "colab": {
      "name": "DriverDrowsinessDetection.ipynb",
      "provenance": [],
      "collapsed_sections": [],
      "mount_file_id": "1KgHXENxTnQ0cG8nym1oxshUQhi-9-zs3",
      "authorship_tag": "ABX9TyNidgdl+0K9OTmJNDTtX7pJ",
      "include_colab_link": true
    },
    "kernelspec": {
      "name": "python3",
      "display_name": "Python 3"
    }
  },
  "cells": [
    {
      "cell_type": "markdown",
      "metadata": {
        "id": "view-in-github",
        "colab_type": "text"
      },
      "source": [
        "<a href=\"https://colab.research.google.com/github/Tavo826/DataScience/blob/main/DriverDrowsinessDetection.ipynb\" target=\"_parent\"><img src=\"https://colab.research.google.com/assets/colab-badge.svg\" alt=\"Open In Colab\"/></a>"
      ]
    },
    {
      "cell_type": "markdown",
      "metadata": {
        "id": "JZuVpW1XM6YO"
      },
      "source": [
        "El objetivo es detectar si la persona cierra los ojos por unos segundos\r\n",
        "\r\n",
        "### Pasos\r\n",
        "\r\n",
        "1. Tomar imágenes de la cámara como entradas\r\n",
        "\r\n",
        "2. Detectar el rostro y crear una región de interés (ROI)\r\n",
        "\r\n",
        "3. Detectar los ojos y alimentar el clasificador\r\n",
        "\r\n",
        "4. El clasificador detecta si los ojos están abiertos o cerrados\r\n",
        "\r\n",
        "5. Se calcula el puntaje para verificar si la persona está somnolienta\r\n",
        "\r\n",
        "### Dataset\r\n",
        "\r\n",
        "El dataset es creado capturando imágenes de los ojos y guardándolas en el sistema. Se separan en carpetas 'Open' o 'Closed'. Se debe limpiar el conjunto de datos manualmente, removiendo las imágenes que no se quieren para entrenar el modelo. El conjunto de datos contiene larededor de 7000 imágenes de ojos de personas bajo diferentes condicione de luz\r\n",
        "\r\n",
        "### Arquitectura\r\n",
        "\r\n",
        "Se crea con keras una red neuronal convolucional (CNN) con las siguientes capas:\r\n",
        "\r\n",
        "* Capa convolucional, 32 nodos, kernel 3\r\n",
        "* Capa convolucional, 32 nodos, kernel 3\r\n",
        "* Capa convolucional, 64 nodos, kernel 3\r\n",
        "* Capa densa, 128 nodos\r\n",
        "* Capa densa, 2 nodos\r\n",
        "\r\n",
        "Se usa activación relu para todas las capas, excepto en la de salida que usa softma"
      ]
    },
    {
      "cell_type": "code",
      "metadata": {
        "colab": {
          "base_uri": "https://localhost:8080/"
        },
        "id": "cLvs0PB6WrWW",
        "outputId": "b5e837e1-882e-4c0a-911b-fea64fca00bd"
      },
      "source": [
        "!pip install pygame"
      ],
      "execution_count": null,
      "outputs": [
        {
          "output_type": "stream",
          "text": [
            "Collecting pygame\n",
            "\u001b[?25l  Downloading https://files.pythonhosted.org/packages/01/da/4ff439558641a26dd29b04c25947e6c0ace041f56b2aa2ef1134edab06b8/pygame-2.0.1-cp36-cp36m-manylinux1_x86_64.whl (11.8MB)\n",
            "\u001b[K     |████████████████████████████████| 11.8MB 5.1MB/s \n",
            "\u001b[?25hInstalling collected packages: pygame\n",
            "Successfully installed pygame-2.0.1\n"
          ],
          "name": "stdout"
        }
      ]
    },
    {
      "cell_type": "code",
      "metadata": {
        "id": "bRlmqAdKQofB",
        "colab": {
          "base_uri": "https://localhost:8080/"
        },
        "outputId": "eb92edf1-f1b4-46e8-ab87-707da78bad59"
      },
      "source": [
        "import os\r\n",
        "import cv2 #(no funciona en colab)\r\n",
        "import random\r\n",
        "import shutil\r\n",
        "import numpy as np\r\n",
        "import matplotlib.pyplot as plt\r\n",
        "\r\n",
        "from keras.preprocessing import image\r\n",
        "from keras.utils.np_utils import to_categorical\r\n",
        "from keras.models import Sequential, load_model\r\n",
        "from keras.layers import Dropout, Conv2D, Flatten, Dense, MaxPooling2D, BatchNormalization\r\n",
        "#Alarma para activar cuando se detecta somnolencia\r\n",
        "from pygame import mixer\r\n",
        "\r\n",
        "\r\n",
        "os.chdir('/content/drive/MyDrive/Colab Notebooks/Data Science/Detección de somnolencia del conductor')"
      ],
      "execution_count": null,
      "outputs": [
        {
          "output_type": "stream",
          "text": [
            "pygame 2.0.1 (SDL 2.0.14, Python 3.6.9)\n",
            "Hello from the pygame community. https://www.pygame.org/contribute.html\n"
          ],
          "name": "stdout"
        }
      ]
    },
    {
      "cell_type": "markdown",
      "metadata": {
        "id": "zNnI-OlkipRt"
      },
      "source": [
        "## Modelo"
      ]
    },
    {
      "cell_type": "code",
      "metadata": {
        "id": "ALgAoG2hiv4M"
      },
      "source": [
        "def generator(dir, \r\n",
        "              gen=image.ImageDataGenerator(rescale=1./255),\r\n",
        "              shuffle=True, batch_size=1, target_size=(24,24),\r\n",
        "              class_mode='categorical'):\r\n",
        "  \r\n",
        "  return gen.flow_from_directory(dir, \r\n",
        "                                 batch_size=batch_size,\r\n",
        "                                 shuffle=shuffle,\r\n",
        "                                 color_mode='grayscale',\r\n",
        "                                 class_mode=class_mode,\r\n",
        "                                 target_size=target_size)\r\n",
        "  \r\n",
        "BS = 32\r\n",
        "TS = (24,24)\r\n",
        "train_batch = generator('data/train', shuffle=True, batch_size=BS, target_size=TS)\r\n",
        "valid_batch = generator('data/valid', shuffle=True, batch_size=BS, target_size=TS)\r\n",
        "#Pasos por época\r\n",
        "SPE = len(train_batch.classes) // BS\r\n",
        "#Pasos de alidación\r\n",
        "VS = len(valid_batch.classes) // BS\r\n",
        "print(SPE, VS)\r\n",
        "\r\n",
        "model = Sequential([\r\n",
        "                    Conv2D(32, kernel_size=(3,3), activation='relu', input_shape=(24,24,1)),\r\n",
        "                    MaxPooling2D(pool_size=(1,1)),\r\n",
        "                    Conv2D(32, (3,3), activation='relu')\r\n",
        "                    MaxPooling2D(pool_size=(1,1)),\r\n",
        "                    Conv2D(64, (3,3), activation='relu')\r\n",
        "                    #Se escogen las mejores características vía pooling\r\n",
        "                    MaxPooling2D(pool_size=(1,1)),\r\n",
        "                    #Se apagan y encienden nodos para mejorar la convergencia\r\n",
        "                    Dropout(0.25),\r\n",
        "                    #Solamente se desea una clasificación a la salida\r\n",
        "                    Flatten(),\r\n",
        "                    #Obteniendo todos los datos relevantes\r\n",
        "                    Dense(128, activation='relu')\r\n",
        "                    Dropout(0.5)\r\n",
        "                    #generar un softmax para aplastar la matriz en probabilidades de salida\r\n",
        "                    Dense(2, activation='softmax')\r\n",
        "])\r\n",
        "\r\n",
        "model.compile(optimizer='adam', loss='categorical_crossentropy', metrics=['accuracy'])\r\n",
        "model.fit_generator(train_batch, validation_data=valid_batch, epochs=15,\r\n",
        "                    steps_per_epoch=SPE, validation_steps=VS)\r\n",
        "model.save('models/cnnCat2.h5', overwrite=True)"
      ],
      "execution_count": null,
      "outputs": []
    },
    {
      "cell_type": "markdown",
      "metadata": {
        "id": "oI7GdC8XirBf"
      },
      "source": [
        "## Compilando"
      ]
    },
    {
      "cell_type": "code",
      "metadata": {
        "id": "p_sv78fNTBQp"
      },
      "source": [
        "from scipy.io import wavfile\r\n",
        "#mixer.init() #no funciona en colab\r\n",
        "#sound = mixer.Sound('alarm.wav')\r\n",
        "sound = wavfile.read('alarm.wav')"
      ],
      "execution_count": null,
      "outputs": []
    },
    {
      "cell_type": "code",
      "metadata": {
        "id": "c5gTYGUshty8"
      },
      "source": [
        "#Se cargan los modelos de reconocimiento\r\n",
        "face = cv2.CascadeClassifier('haar cascade files/haarcascade_frontalface_alt.xml')\r\n",
        "leye = cv2.CascadeClassifier('haar cascade files/haarcascade_lefteye_2splits.xml')\r\n",
        "reye = cv2.CascadeClassifier('haar cascade files/haarcascade_righteye_2splits.xml')\r\n",
        "\r\n",
        "#labels\r\n",
        "lbl = ['Close', 'Open']"
      ],
      "execution_count": null,
      "outputs": []
    },
    {
      "cell_type": "code",
      "metadata": {
        "id": "D4hcxyyxiUml"
      },
      "source": [
        "#Se carga el modelo preentrenado de clasificación\r\n",
        "model = load_model('models/cnnat2.h5')\r\n",
        "path = os.getcwd()\r\n",
        "cap = cv2.VideoCapture(0)\r\n",
        "font = cv2.FONT_HERSHEY_COMPLEX_SMALL\r\n",
        "count = 0\r\n",
        "score = 0\r\n",
        "thicc = 2\r\n",
        "rpred = [99]\r\n",
        "lpred = [99]\r\n",
        "\r\n",
        "while True:\r\n",
        "  #Empieza a grabar la webcam\r\n",
        "  ret, frame = cap.read()\r\n",
        "  height, width = frame.shape[:2]\r\n",
        "  #Escala de grises\r\n",
        "  gray = cv2.cvtColor(frame, cv2.COLOR_BGR2GRAY)\r\n",
        "  #Detectando rostros\r\n",
        "  faces = face.detectMultiScale(gray, minNeighbors=5, scaleFactor=1.1, minSize=(25,25))\r\n",
        "  #Detectando ojos\r\n",
        "  left_eye = leye.detectMultiScale(gray)\r\n",
        "  right_eye = reye.detectMultiScale(gray)\r\n",
        "\r\n",
        "  cv2.rectangle(frame, (0,height-50), (200, height), (0,0,0), thickness=cv2.FILLED)\r\n",
        "\r\n",
        "  #Encerrando la región de interés (rostro)\r\n",
        "  for (x,y,w,h) in faces:\r\n",
        "    cv2.rectangle(frame, (x,y), (x+w,y+h), (100,100,100), 1)\r\n",
        "  \r\n",
        "  #Alimentando el modelo con imágenes de los ojos\r\n",
        "  for (x,y,w,h) in right_eye:\r\n",
        "    #Tomando el área del ojo\r\n",
        "    r_eye = frame[y:y+h,x:x+w]\r\n",
        "    #Contando el ojo\r\n",
        "    count += 1\r\n",
        "    #escala de grises\r\n",
        "    r_eye = cv2.cvtColor(r_eye, cv2.COLOR_BGR2GRAY)\r\n",
        "    #reescalando la imagen\r\n",
        "    r_eye = cv2.resize(r_eye, (24,24))\r\n",
        "    #normalizando\r\n",
        "    r_eye = r_eye / 255\r\n",
        "    r_eye = r_eye.reshape(24,24,-1)\r\n",
        "    r_eye = np.expand_dims(r_eye, axis=0)\r\n",
        "    #Prediciendo con el modelo\r\n",
        "    rpred = model.predict_classes(r_eye)\r\n",
        "\r\n",
        "    if (rpred[0] == 1):\r\n",
        "      lbl = 'Open'\r\n",
        "    if (rpred[0] == 0):\r\n",
        "      lbl = 'Closed'\r\n",
        "\r\n",
        "    break\r\n",
        "\r\n",
        "  for (x,y,w,h) in left_eye:\r\n",
        "    l_eye = frame[y:y+h,x:x+w]\r\n",
        "    count += 1\r\n",
        "    l_eye = cv2.cvtColor(l_eye, cv2.COLOR_BGR2GRAY)\r\n",
        "    l_eye = cv2.resize(l_eye, (24,24))\r\n",
        "    l_eye = l_eye / 255\r\n",
        "    l_eye = l_eye.reshape(24,24,-1)\r\n",
        "    l_eye = np.expand_dims(l_eye, axis=0)\r\n",
        "    lpred = model.predict_classes(l_eye)\r\n",
        "\r\n",
        "    if (lpred[0] == 1):\r\n",
        "      lbl = 'Open'\r\n",
        "    if (lpred[0] == 0):\r\n",
        "      lbl = 'Closed'\r\n",
        "\r\n",
        "    break\r\n",
        "\r\n",
        "  #Si los ojos están cerrados\r\n",
        "  if (rpred[0] == 0 and lpred[0] == 0):\r\n",
        "    score += 1\r\n",
        "    cv2.putText(frame, 'Closed', (10, height-20), font, 1, (255,255,255), 1, cv2.LINE_AA)\r\n",
        "  #Si están abiertos\r\n",
        "  else:\r\n",
        "    score -= 1\r\n",
        "    cv2.putText(frame, 'Open', (10,height-20), font, 1, (255,255,255), 1, cv2.LINE_AA)\r\n",
        "\r\n",
        "  if (score < 0):\r\n",
        "    score = 0\r\n",
        "  cv2.putText(frame, 'Score: ' + str(score), (100,height-20), font, 1, (255,255,255), 1, cv2.LINE_AA)\r\n",
        "  #más de 15 frames con los ojos cerrados\r\n",
        "  if (score > 15):\r\n",
        "    #Toma una captura\r\n",
        "    cv2.imwrite(os.path.join(path, 'image.jpg'), frame)\r\n",
        "    #Suena alarma\r\n",
        "    try:\r\n",
        "      sound.play() #creo??? -_-\r\n",
        "    except:\r\n",
        "      pass\r\n",
        "    \r\n",
        "    if (thicc < 16):\r\n",
        "      thicc += 2\r\n",
        "    else:\r\n",
        "      thicc -= 2\r\n",
        "\r\n",
        "    cv2.rectangle(frame, (0,0), (width, heihgt), (0,0,255), thicc)\r\n",
        "  \r\n",
        "  cv2.imshow('frame', frame)\r\n",
        "  if cv2.waitKey(1) & 0xFF == ord('q'):\r\n",
        "    break\r\n",
        "\r\n",
        "cap.release()\r\n",
        "cv2.destroyAllWindows()"
      ],
      "execution_count": null,
      "outputs": []
    }
  ]
}
