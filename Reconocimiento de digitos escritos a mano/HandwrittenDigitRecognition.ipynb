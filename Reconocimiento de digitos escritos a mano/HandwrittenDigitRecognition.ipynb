{
  "nbformat": 4,
  "nbformat_minor": 0,
  "metadata": {
    "colab": {
      "name": "HandwrittenDigitRecognition.ipynb",
      "provenance": [],
      "collapsed_sections": [],
      "mount_file_id": "1m1BAaABD_cAhV6635t5OXzj14vD5PEJK",
      "authorship_tag": "ABX9TyPt4NiOpF5aqMfYyy78rTBt",
      "include_colab_link": true
    },
    "kernelspec": {
      "name": "python3",
      "display_name": "Python 3"
    }
  },
  "cells": [
    {
      "cell_type": "markdown",
      "metadata": {
        "id": "view-in-github",
        "colab_type": "text"
      },
      "source": [
        "<a href=\"https://colab.research.google.com/github/Tavo826/DataScience/blob/main/HandwrittenDigitRecognition.ipynb\" target=\"_parent\"><img src=\"https://colab.research.google.com/assets/colab-badge.svg\" alt=\"Open In Colab\"/></a>"
      ]
    },
    {
      "cell_type": "markdown",
      "metadata": {
        "id": "YJuHCIWCvZtG"
      },
      "source": [
        "Se implementará un reconocedor usando el conjunto de datos de MNIST, usando  una rede neuronal convolucional\r\n",
        "\r\n",
        "El MNIST contiene 60000 imágenes de entrenamiento de números desde el 0 al 9 y 10000 imágenes de prueba, representadas como una matriz 28x28 en la que cada celda contiene un valir de pixel en escala de grises"
      ]
    },
    {
      "cell_type": "code",
      "metadata": {
        "colab": {
          "base_uri": "https://localhost:8080/"
        },
        "id": "5Hrs4lkUqZ44",
        "outputId": "f4d29cd2-4c01-4b87-a37c-21fb8eebdca6"
      },
      "source": [
        "import os\r\n",
        "import numpy as  np\r\n",
        "import matplotlib.pyplot as plt\r\n",
        "\r\n",
        "import keras\r\n",
        "from keras.datasets import mnist\r\n",
        "from keras.models import Sequential\r\n",
        "from keras.layers import Dense, Dropout, Flatten, Conv2D, MaxPooling2D\r\n",
        "from keras import backend as K\r\n",
        "\r\n",
        "(x_train, y_train), (x_test, y_test) = mnist.load_data()\r\n",
        "\r\n",
        "os.chdir('/content/drive/MyDrive/Colab Notebooks/Data Science/Reconocimiento de dígitos escritos a mano')\r\n",
        "\r\n",
        "print(x_train.shape, y_train.shape)"
      ],
      "execution_count": null,
      "outputs": [
        {
          "output_type": "stream",
          "text": [
            "(60000, 28, 28) (60000,)\n"
          ],
          "name": "stdout"
        }
      ]
    },
    {
      "cell_type": "markdown",
      "metadata": {
        "id": "7wRwLxLv0g8B"
      },
      "source": [
        "### Preprocesando los datos\r\n",
        "\r\n",
        "La dimensión del conjunto de datos es (60000,28,28) y la CNN requiere una dimensión más de modo que quede (60000,28,28,1)"
      ]
    },
    {
      "cell_type": "code",
      "metadata": {
        "colab": {
          "base_uri": "https://localhost:8080/"
        },
        "id": "43FlcIgt0Ofz",
        "outputId": "70cd6acf-464d-471d-e197-aaaa47b27234"
      },
      "source": [
        "x_train = x_train.reshape(x_train.shape[0], 28, 28, 1)\r\n",
        "x_test = x_test.reshape(x_test.shape[0], 28, 28, 1)\r\n",
        "input_shape = (28, 28, 1)\r\n",
        "\r\n",
        "#Convirtiendo los vectores de las clases en matrices de clases binarias\r\n",
        "num_classes = len(np.unique(y_train))\r\n",
        "y_train = keras.utils.to_categorical(y_train, num_classes)\r\n",
        "y_test = keras.utils.to_categorical(y_test, num_classes)\r\n",
        "\r\n",
        "#Normalizando\r\n",
        "x_train = x_train.astype('float32')\r\n",
        "x_test = x_test.astype('float32')\r\n",
        "x_train /= 255\r\n",
        "x_test /= 255\r\n",
        "\r\n",
        "print(x_train.shape, y_train.shape)"
      ],
      "execution_count": null,
      "outputs": [
        {
          "output_type": "stream",
          "text": [
            "(60000, 28, 28, 1) (60000, 10)\n"
          ],
          "name": "stdout"
        }
      ]
    },
    {
      "cell_type": "markdown",
      "metadata": {
        "id": "ggQJqCDz2-TO"
      },
      "source": [
        "### Creando el modelo\r\n",
        "\r\n",
        "Se utiliza el optimizador Adadelta"
      ]
    },
    {
      "cell_type": "code",
      "metadata": {
        "id": "Q0-ATA5X1atM"
      },
      "source": [
        "batch_size = 128\r\n",
        "epochs = 10\r\n",
        "\r\n",
        "model = Sequential()\r\n",
        "model.add(Conv2D(32, kernel_size=(3,3), activation='relu', input_shape=input_shape))\r\n",
        "model.add(Conv2D(64, (3,3), activation='relu'))\r\n",
        "model.add(MaxPooling2D(pool_size=(2,2)))\r\n",
        "model.add(Dropout(0.25))\r\n",
        "model.add(Flatten())\r\n",
        "model.add(Dense(256, activation='relu'))\r\n",
        "model.add(Dropout(0.5))\r\n",
        "model.add(Dense(num_classes, activation='softmax'))\r\n",
        "\r\n",
        "model.compile(loss=keras.losses.categorical_crossentropy, optimizer=keras.optimizers.Adadelta(), metrics=['accuracy'])"
      ],
      "execution_count": null,
      "outputs": []
    },
    {
      "cell_type": "markdown",
      "metadata": {
        "id": "3vexmI2N4raF"
      },
      "source": [
        "### Entrenando el modelo\r\n",
        "\r\n",
        "Al finalizar se guarda el modelo"
      ]
    },
    {
      "cell_type": "code",
      "metadata": {
        "colab": {
          "base_uri": "https://localhost:8080/"
        },
        "id": "qBBda70D4qVy",
        "outputId": "8b71277b-8c5f-4db5-ffe1-c7a8295c1f68"
      },
      "source": [
        "hist = model.fit(x_train, y_train,\r\n",
        "                 batch_size=batch_size, epochs=epochs, verbose=10, \r\n",
        "                 validation_data=(x_test, y_test))\r\n",
        "\r\n",
        "model.save('mnist.h5')"
      ],
      "execution_count": null,
      "outputs": [
        {
          "output_type": "stream",
          "text": [
            "Epoch 1/10\n",
            "Epoch 2/10\n",
            "Epoch 3/10\n",
            "Epoch 4/10\n",
            "Epoch 5/10\n",
            "Epoch 6/10\n",
            "Epoch 7/10\n",
            "Epoch 8/10\n",
            "Epoch 9/10\n",
            "Epoch 10/10\n"
          ],
          "name": "stdout"
        }
      ]
    },
    {
      "cell_type": "markdown",
      "metadata": {
        "id": "Q5AtGCk0ERNI"
      },
      "source": [
        "### Evaluando el modelo\r\n",
        "\r\n"
      ]
    },
    {
      "cell_type": "code",
      "metadata": {
        "id": "A8zy-LPAHd4J"
      },
      "source": [
        "def plot_confusion_matrix(y_true, y_pred, classes, normalize=False,\r\n",
        "                          title=None, cmap=plt.cm.Blues):\r\n",
        "  \r\n",
        "  if not title:\r\n",
        "    if normalize:\r\n",
        "      title = 'Normalized confusion matrix'\r\n",
        "    else:\r\n",
        "      title = 'Confusion matrix, without normalization'\r\n",
        "  \r\n",
        "  #Calulando la matriz de confusión\r\n",
        "  cm = confusion_matrix(y_true, y_pred)\r\n",
        "  print(cm)\r\n",
        "  #Solo se usan las etiquetas que aparecen en los datos\r\n",
        "  #classes = classes[unique_labels(y_true, y_pred)]\r\n",
        "  if normalize: cm = 100 * cm.astype('float') / cm.sum(axis=1)[:, np.newaxis]\r\n",
        "\r\n",
        "  fig, ax = plt.subplots()\r\n",
        "  im = ax.imshow(cm, interpolation='nearest', cmap=cmap)\r\n",
        "  ax.figure.colorbar(im, ax=ax)\r\n",
        "\r\n",
        "  #mostrando las etiquetas\r\n",
        "  ax.set(xticks = np.arange(cm.shape[1]),\r\n",
        "         yticks = np.arange(cm.shape[0]),\r\n",
        "         xticklabels = classes, yticklabels=classes, \r\n",
        "         title = title,\r\n",
        "         ylabel = 'True label',\r\n",
        "         xlabel = 'Predicted label')\r\n",
        "  \r\n",
        "  #rotando los ejes\r\n",
        "  plt.setp(ax.get_xticklabels(), rotation=45, ha='right',\r\n",
        "           rotation_mode='anchor')\r\n",
        "  \r\n",
        "  #Se recorren las dimensiones de los datos y se crean las anotaciones\r\n",
        "  fmt = '.1f' if normalize else 'd'\r\n",
        "  thresh = cm.max() / 2\r\n",
        "  for i in range(cm.shape[0]):\r\n",
        "    for j in range(cm.shape[1]):\r\n",
        "      s = format(cm[i, j],'.1f') + \"$\\pm$\" + format(np.zeros(cm.shape)[i, j],'.1f')\r\n",
        "      ax.text(j, i, s,ha=\"center\", va=\"center\",\r\n",
        "              color=\"white\" if cm[i, j] > thresh else \"black\",fontsize=12)\r\n",
        "  fig.tight_layout()\r\n",
        "  return ax"
      ],
      "execution_count": null,
      "outputs": []
    },
    {
      "cell_type": "code",
      "metadata": {
        "colab": {
          "base_uri": "https://localhost:8080/"
        },
        "id": "M2A2D6jxE3jj",
        "outputId": "30efb65a-79c2-448d-cfdb-55350af419da"
      },
      "source": [
        "score = model.evaluate(x_test, y_test, verbose=0)\r\n",
        "\r\n",
        "print('Test loss: ', score[0])\r\n",
        "print('Test accuracy: ', score[1])"
      ],
      "execution_count": null,
      "outputs": [
        {
          "output_type": "stream",
          "text": [
            "Test loss:  0.8953418135643005\n",
            "Test accuracy:  0.8228999972343445\n"
          ],
          "name": "stdout"
        }
      ]
    },
    {
      "cell_type": "markdown",
      "metadata": {
        "id": "k4bNgSx2IQE-"
      },
      "source": [
        "### Creando una GUI para predecir (no funciona en colab)"
      ]
    },
    {
      "cell_type": "code",
      "metadata": {
        "id": "zHjBET5WIXTn"
      },
      "source": [
        "from keras.models import load_model\r\n",
        "from tkinter import *\r\n",
        "import tkinter as tk\r\n",
        "from PIL import ImageGrab, Image\r\n",
        "import numpy as np\r\n",
        "\r\n",
        "model = load_model('mnist.h5')\r\n",
        "\r\n",
        "def predict_digit(img):\r\n",
        "  #modificando el tamaño de la imagen\r\n",
        "  img = img.resize((28,28))\r\n",
        "  #Convirtiendo a escala de grises\r\n",
        "  img = img.convert('L')\r\n",
        "  img = np.array(img)\r\n",
        "  #Escalando\r\n",
        "  img = img.reshape(1,28,28,1)\r\n",
        "  img = img/255.0\r\n",
        "  #Prediciendo las clases\r\n",
        "  res = model.predict([img])[0]\r\n",
        "  return np.argmax(res), max(res)\r\n",
        "\r\n",
        "class App(tk.Tk):\r\n",
        "  def __init__(self):\r\n",
        "    tk.Tk.__init__(self)\r\n",
        "\r\n",
        "    self.x = self.y = 0\r\n",
        "\r\n",
        "    #Creando elementos\r\n",
        "    self.canvas = tk.Canvas(self, width=300, height=300, bg='white', cursor='cross')\r\n",
        "    elf.label = tk.Label(self, text=\"Thinking..\", font=(\"Helvetica\", 48))\r\n",
        "    self.classify_btn = tk.Button(self, text='Recognise', command=self.classify_handwriting)\r\n",
        "    self.button_clear = tk.Button(self, text='Clear', command=self.clear_all)\r\n",
        "\r\n",
        "    #Estructura de la grilla\r\n",
        "    self.canvas.grid(row=0, column=0, pady=2, sticky=W, )\r\n",
        "    self..grid(row=0, column=1, pady=2, padx=2)\r\n",
        "    self.classify_btn.grid(row=1, column=1, pady=2, padx=2)\r\n",
        "    self.button_clear.grid(row=1, column=0, pady=2)\r\n",
        "\r\n",
        "    #self.canvas.bind(\"<Motion>\", self.start_pos)\r\n",
        "    self.canvas.bind(\"<B1-Motion>\", self.draw_lines)\r\n",
        "\r\n",
        "  def clear_all(self):\r\n",
        "    self.canvas.delete('all')\r\n",
        "\r\n",
        "  def classify_handwriting(self):\r\n",
        "    HWND = self.canvas.winfo_id()\r\n",
        "    #rect = win32gui.GetWindowRect(HWND)  -> Coordenadas del canvas\r\n",
        "    im = ImageGrab.grab(rect)\r\n",
        "\r\n",
        "    digit, acc = predict_digit(im)\r\n",
        "    self.label.configure(text= str(digit) + ', ' + str(int(acc*100)) + '%')\r\n",
        "\r\n",
        "  def draw_lines(self, event):\r\n",
        "    self.x = event.x\r\n",
        "    self.y = event.y\r\n",
        "    r = 8\r\n",
        "    self.canvas.create_oval(self.x-r, self.y-r, self.x+r, self.y+r, fill='black')\r\n",
        "\r\n",
        "app = App()\r\n",
        "mainloop()"
      ],
      "execution_count": null,
      "outputs": []
    }
  ]
}
