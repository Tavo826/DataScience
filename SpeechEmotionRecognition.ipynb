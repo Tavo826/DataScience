{
  "nbformat": 4,
  "nbformat_minor": 0,
  "metadata": {
    "colab": {
      "name": "SpeechEmotionRecognition.ipynb",
      "provenance": [],
      "mount_file_id": "1JmEBBktVy03M8mhxsAuZYqtETKKn0De0",
      "authorship_tag": "ABX9TyOWQhuwiLPdyzAtRY0aOGzd",
      "include_colab_link": true
    },
    "kernelspec": {
      "name": "python3",
      "display_name": "Python 3"
    }
  },
  "cells": [
    {
      "cell_type": "markdown",
      "metadata": {
        "id": "view-in-github",
        "colab_type": "text"
      },
      "source": [
        "<a href=\"https://colab.research.google.com/github/Tavo826/DataScience/blob/main/SpeechEmotionRecognition.ipynb\" target=\"_parent\"><img src=\"https://colab.research.google.com/assets/colab-badge.svg\" alt=\"Open In Colab\"/></a>"
      ]
    },
    {
      "cell_type": "markdown",
      "metadata": {
        "id": "P6S0gPlACn73"
      },
      "source": [
        "Es el intento de reconocer la emoción humana y los estados afectivos de la voz. Para esto se utiliza la librería *librosa*, que es usada para analizar audio y música. Finalmente de contruye un modelo usando MLPClassifier.\r\n",
        "\r\n",
        "Para el conjunto de datos se usa el RAVDESS (Ryerson Audio-Visual Database of Emotional Speech and Song) dataset, este contiene 7356 archivos de 24 actores."
      ]
    },
    {
      "cell_type": "code",
      "metadata": {
        "colab": {
          "base_uri": "https://localhost:8080/"
        },
        "id": "Em3zkoytFju6",
        "outputId": "95e933a8-a9f6-4213-abe1-463c6e724899"
      },
      "source": [
        "!pip install soundfile"
      ],
      "execution_count": null,
      "outputs": [
        {
          "output_type": "stream",
          "text": [
            "Requirement already satisfied: soundfile in /usr/local/lib/python3.6/dist-packages (0.10.3.post1)\n",
            "Requirement already satisfied: cffi>=1.0 in /usr/local/lib/python3.6/dist-packages (from soundfile) (1.14.4)\n",
            "Requirement already satisfied: pycparser in /usr/local/lib/python3.6/dist-packages (from cffi>=1.0->soundfile) (2.20)\n"
          ],
          "name": "stdout"
        }
      ]
    },
    {
      "cell_type": "code",
      "metadata": {
        "id": "zs3FlW1xa1EL"
      },
      "source": [
        "import os, glob, pickle\r\n",
        "import librosa\r\n",
        "import soundfile\r\n",
        "import numpy as np\r\n",
        "import matplotlib.pyplot as plt\r\n",
        "\r\n",
        "from scipy.io import wavfile\r\n",
        "\r\n",
        "from sklearn.model_selection import train_test_split\r\n",
        "from sklearn.neural_network import MLPClassifier\r\n",
        "from sklearn.metrics import accuracy_score, classification_report, confusion_matrix\r\n",
        "\r\n",
        "os.chdir('/content/drive/MyDrive/Colab Notebooks/Data Science/Reconocimiento de voz y emoción')"
      ],
      "execution_count": null,
      "outputs": []
    },
    {
      "cell_type": "markdown",
      "metadata": {
        "id": "G7dhIVA_Fz_P"
      },
      "source": [
        "La función extract_feature extrae las características mfcc, chroma, y mel del archivo de audio\r\n",
        "\r\n",
        "* **mfcc:** Mel Frequency Cepstral Coefficient, representa el espectro de potecia a corto plazo de un sonido\r\n",
        "* **chroma:** Pertenece a las 12 classes de tonos diferentes\r\n",
        "* **mel:** Mel Spectogram Frecuency"
      ]
    },
    {
      "cell_type": "code",
      "metadata": {
        "id": "eX89wAMmIGGZ"
      },
      "source": [
        "def extract_feature(file_name, mfcc, chroma, mel):\r\n",
        "  #with wavfile.read(file_name,) as sound_file:\r\n",
        "  #with soundfile.SoundFile(file_name) as sound_file:\r\n",
        "  X = wavfile.read(file_name)\r\n",
        "  sample_rate = X[0]\r\n",
        "  X = np.array(X[1], dtype='float32')\r\n",
        "  #X = sound_file.read(dtype='float32')  \r\n",
        "  if chroma:\r\n",
        "    #Se obtiene la transformada en tiempo corto de Fourier\r\n",
        "    stft = np.abs(librosa.stft(X))\r\n",
        "  result = np.array([])\r\n",
        "  #Por cada característica de las tres, se obtiene el valor medio\r\n",
        "  if mfcc:\r\n",
        "    mfccs = np.mean(librosa.feature.mfcc(y=X, sr=sample_rate, n_mfcc=40).T, axis=0)\r\n",
        "    result = np.hstack((result, mfccs))\r\n",
        "  if chroma:\r\n",
        "    chroma = np.mean(librosa.feature.chroma_stft(S=stft, sr=sample_rate).T, axis=0)\r\n",
        "    result = np.hstack((result, chroma))\r\n",
        "  if mel:\r\n",
        "    mel = np.mean(librosa.feature.melspectrogram(X, sr=sample_rate).T, axis=0)\r\n",
        "    result = np.hstack((result, mel))\r\n",
        "    \r\n",
        "  return result"
      ],
      "execution_count": null,
      "outputs": []
    },
    {
      "cell_type": "markdown",
      "metadata": {
        "id": "-G-jhsrgLmVG"
      },
      "source": [
        "Se crea un diccionario que enumera las emociones disponibles en el dataset, y una lista con las que se requiere."
      ]
    },
    {
      "cell_type": "code",
      "metadata": {
        "id": "q26gVEL3LaiW"
      },
      "source": [
        "#Diccionario\r\n",
        "emotions = {\r\n",
        "    '01': 'neutral',\r\n",
        "    '02': 'calm',\r\n",
        "    '03': 'happy',\r\n",
        "    '04': 'sad',\r\n",
        "    '05': 'angry',\r\n",
        "    '06': 'fearful',\r\n",
        "    '07': 'disgust',\r\n",
        "    '08': 'surprised'\r\n",
        "}\r\n",
        "\r\n",
        "#Emociones a observar\r\n",
        "observed_emotions = ['calm', 'happy', 'fearful', 'disgust'] "
      ],
      "execution_count": null,
      "outputs": []
    },
    {
      "cell_type": "code",
      "metadata": {
        "id": "3dqynF2FMcDP"
      },
      "source": [
        "def load_data(test_size=0.2):\r\n",
        "  x, y = [], []\r\n",
        "  for dirpath, dirnames, filenames in os.walk('/content/drive/MyDrive/Colab Notebooks/Data Science/Reconocimiento de voz y emoción/speech-emotion-recognition-ravdess-data'):\r\n",
        "    for file_name in filenames:\r\n",
        "      #El tercer valor en el nombre de los archivos contiene la emoción.\r\n",
        "      emotion = emotions[file_name.split('-')[2]]\r\n",
        "      #Si la emoción no está entre las seleccionadas\r\n",
        "      if emotion not in observed_emotions:\r\n",
        "        continue\r\n",
        "      #Se extraen las características\r\n",
        "      feature = extract_feature(dirpath + '/' + file_name, mfcc=True, chroma=True, mel=True)\r\n",
        "      #Se guarda la característica y la emoción\r\n",
        "      x.append(feature)\r\n",
        "      y.append(emotion)\r\n",
        "  \r\n",
        "  #Se separan los datos de entrenamiento y de prueba\r\n",
        "  return train_test_split(np.array(x), y, test_size=test_size, random_state=9)"
      ],
      "execution_count": null,
      "outputs": []
    },
    {
      "cell_type": "code",
      "metadata": {
        "id": "M1amgyfCPzex"
      },
      "source": [
        "x_train, x_test, y_train, y_test = load_data(test_size=0.25)"
      ],
      "execution_count": null,
      "outputs": []
    },
    {
      "cell_type": "code",
      "metadata": {
        "colab": {
          "base_uri": "https://localhost:8080/"
        },
        "id": "ffhqpcFMP7ai",
        "outputId": "fe9c9e98-22eb-4478-b27d-09d74a517138"
      },
      "source": [
        "print('x_train: ', x_train.shape)\r\n",
        "print('x_test: ', x_test.shape)"
      ],
      "execution_count": null,
      "outputs": [
        {
          "output_type": "stream",
          "text": [
            "x_train:  (576, 180)\n",
            "x_test:  (192, 180)\n"
          ],
          "name": "stdout"
        }
      ]
    },
    {
      "cell_type": "markdown",
      "metadata": {
        "id": "w8uHhIVcnNU_"
      },
      "source": [
        "MLPClassifier es un perceptrón multicapa que optimiza la función log-loss usando LBFGS o el descenso del gradiente estocástico"
      ]
    },
    {
      "cell_type": "code",
      "metadata": {
        "id": "TTtfOxHAnG9S"
      },
      "source": [
        "#Inicializando MLPClassifier\r\n",
        "model = MLPClassifier(alpha=0.01, batch_size=256, epsilon=1e-08,\r\n",
        "                      hidden_layer_sizes=(300,), learning_rate='adaptive', max_iter=500)"
      ],
      "execution_count": null,
      "outputs": []
    },
    {
      "cell_type": "code",
      "metadata": {
        "colab": {
          "base_uri": "https://localhost:8080/"
        },
        "id": "k0AteS56n_5b",
        "outputId": "b6be36ff-49c0-4a78-ce1a-0ea3bf0e94e0"
      },
      "source": [
        "#Entrenando el modelo\r\n",
        "model.fit(x_train, y_train)"
      ],
      "execution_count": null,
      "outputs": [
        {
          "output_type": "stream",
          "text": [
            "/usr/local/lib/python3.6/dist-packages/sklearn/neural_network/_multilayer_perceptron.py:571: ConvergenceWarning: Stochastic Optimizer: Maximum iterations (500) reached and the optimization hasn't converged yet.\n",
            "  % self.max_iter, ConvergenceWarning)\n"
          ],
          "name": "stderr"
        },
        {
          "output_type": "execute_result",
          "data": {
            "text/plain": [
              "MLPClassifier(activation='relu', alpha=0.01, batch_size=256, beta_1=0.9,\n",
              "              beta_2=0.999, early_stopping=False, epsilon=1e-08,\n",
              "              hidden_layer_sizes=(300,), learning_rate='adaptive',\n",
              "              learning_rate_init=0.001, max_fun=15000, max_iter=500,\n",
              "              momentum=0.9, n_iter_no_change=10, nesterovs_momentum=True,\n",
              "              power_t=0.5, random_state=None, shuffle=True, solver='adam',\n",
              "              tol=0.0001, validation_fraction=0.1, verbose=False,\n",
              "              warm_start=False)"
            ]
          },
          "metadata": {
            "tags": []
          },
          "execution_count": 9
        }
      ]
    },
    {
      "cell_type": "code",
      "metadata": {
        "id": "nm48zrheoFyI"
      },
      "source": [
        "#Prediciendo con el conjunto de prueba\r\n",
        "y_pred = model.predict(x_test)\r\n",
        "score = accuracy_score(y_test, y_pred)"
      ],
      "execution_count": null,
      "outputs": []
    },
    {
      "cell_type": "code",
      "metadata": {
        "id": "AuNiEGCYpFjW"
      },
      "source": [
        "def plot_confusion_matrix(y_true, y_pred, classes, normalize=False,\r\n",
        "                          title=None, cmap=plt.cm.Blues):\r\n",
        "  \r\n",
        "  if not title:\r\n",
        "    if normalize:\r\n",
        "      title = 'Normalized confusion matrix'\r\n",
        "    else:\r\n",
        "      title = 'Confusion matrix, without normalization'\r\n",
        "  \r\n",
        "  #Calulando la matriz de confusión\r\n",
        "  cm = confusion_matrix(y_true, y_pred)\r\n",
        "  print(cm)\r\n",
        "  #Solo se usan las etiquetas que aparecen en los datos\r\n",
        "  #classes = classes[unique_labels(y_true, y_pred)]\r\n",
        "  if normalize: cm = 100 * cm.astype('float') / cm.sum(axis=1)[:, np.newaxis]\r\n",
        "\r\n",
        "  fig, ax = plt.subplots()\r\n",
        "  im = ax.imshow(cm, interpolation='nearest', cmap=cmap)\r\n",
        "  ax.figure.colorbar(im, ax=ax)\r\n",
        "\r\n",
        "  #mostrando las etiquetas\r\n",
        "  ax.set(xticks = np.arange(cm.shape[1]),\r\n",
        "         yticks = np.arange(cm.shape[0]),\r\n",
        "         xticklabels = classes, yticklabels=classes, \r\n",
        "         title = title,\r\n",
        "         ylabel = 'True label',\r\n",
        "         xlabel = 'Predicted label')\r\n",
        "  \r\n",
        "  #rotando los ejes\r\n",
        "  plt.setp(ax.get_xticklabels(), rotation=45, ha='right',\r\n",
        "           rotation_mode='anchor')\r\n",
        "  \r\n",
        "  #Se recorren las dimensiones de los datos y se crean las anotaciones\r\n",
        "  fmt = '.1f' if normalize else 'd'\r\n",
        "  thresh = cm.max() / 2\r\n",
        "  for i in range(cm.shape[0]):\r\n",
        "    for j in range(cm.shape[1]):\r\n",
        "      ax.text(j, i, format(cm[i,j], fmt),\r\n",
        "              ha='center', va='center',\r\n",
        "              color='white' if cm[i,j] > thresh else 'black')\r\n",
        "  fig.tight_layout()\r\n",
        "  return ax"
      ],
      "execution_count": null,
      "outputs": []
    },
    {
      "cell_type": "code",
      "metadata": {
        "colab": {
          "base_uri": "https://localhost:8080/",
          "height": 552
        },
        "id": "ILEpEtouqR-d",
        "outputId": "049e222a-134f-4b36-c81a-d6bbe9381a3b"
      },
      "source": [
        "plot_confusion_matrix(y_test, y_pred,\r\n",
        "                      classes = observed_emotions,\r\n",
        "                      normalize=True,\r\n",
        "                      title='ACC = %.1f %%' % (100*score))\r\n",
        "\r\n",
        "cr = classification_report(y_test, y_pred,\r\n",
        "                           target_names = observed_emotions)\r\n",
        "\r\n",
        "print(cr)"
      ],
      "execution_count": null,
      "outputs": [
        {
          "output_type": "stream",
          "text": [
            "[[35  5  2  9]\n",
            " [ 2 20 10 14]\n",
            " [ 6  5 21 16]\n",
            " [ 1  8 14 24]]\n",
            "              precision    recall  f1-score   support\n",
            "\n",
            "        calm       0.80      0.69      0.74        51\n",
            "       happy       0.53      0.43      0.48        46\n",
            "     fearful       0.45      0.44      0.44        48\n",
            "     disgust       0.38      0.51      0.44        47\n",
            "\n",
            "    accuracy                           0.52       192\n",
            "   macro avg       0.54      0.52      0.52       192\n",
            "weighted avg       0.54      0.52      0.53       192\n",
            "\n"
          ],
          "name": "stdout"
        },
        {
          "output_type": "display_data",
          "data": {
            "image/png": "[encoded data removed]",
            "text/plain": [
              "<Figure size 432x288 with 2 Axes>"
            ]
          },
          "metadata": {
            "tags": [],
            "needs_background": "light"
          }
        }
      ]
    }
  ]
}